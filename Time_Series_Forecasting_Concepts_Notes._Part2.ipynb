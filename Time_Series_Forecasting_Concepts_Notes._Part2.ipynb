{
 "cells": [
  {
   "cell_type": "markdown",
   "metadata": {},
   "source": [
    "# **<center>Time Series Analyis & Forecasting Notes</center>**"
   ]
  },
  {
   "cell_type": "markdown",
   "metadata": {},
   "source": [
    "### **What Is Time Series Analysis?**\n",
    "- Time series analysis is a specific way of analyzing a sequence of data points collected over time. In TSA, analysts record data points at consistent intervals over a set period rather than just recording the data points intermittently or randomly.\n",
    "\n",
    "**Time Series Analysis Objectives:**\n",
    "\n",
    "1. **Understanding Changes Over Time:**\n",
    "   - Figure out how time influences variables.\n",
    "   - Identify factors affecting things at different times.\n",
    "\n",
    "2. **Unveiling Dataset Insights:**\n",
    "   - Analyze consequences and insights from changing dataset features.\n",
    "\n",
    "3. **Predicting the Future:**\n",
    "   - Help predict future values of time series variables.\n",
    "\n",
    "4. **Assumption:**\n",
    "- Only one assumption: \"Stationary,\" meaning time's start doesn't impact statistical properties of the process."
   ]
  },
  {
   "cell_type": "markdown",
   "metadata": {},
   "source": [
    "### **Analyzing Time Series:**\n",
    "\n",
    "To analyze time series effectively, follow these steps:\n",
    "\n",
    "1. **Collect and Clean Data:**\n",
    "   - Gather your data and make sure it's tidy.\n",
    "\n",
    "2. **Create Time vs Key Feature Visualizations:**\n",
    "   - Make charts that show how your key feature changes over time.\n",
    "\n",
    "3. **Check Series Stationarity:**\n",
    "   - See if your series stays consistent over time.\n",
    "\n",
    "4. **Understand the Nature with Charts:**\n",
    "   - Develop charts to grasp the characteristics of your data.\n",
    "\n",
    "5. **Build Models – AR, MA, ARMA,ARIMA, SARIMA, SARIMAX, FBProphet, LSTM etc :**\n",
    "   - Use different models to analyze your time series.\n",
    "\n",
    "6. **Extract Insights from Predictions:**\n",
    "   - Gain valuable insights from the predictions made by your models.\n"
   ]
  },
  {
   "cell_type": "markdown",
   "metadata": {},
   "source": [
    "### **Understanding Time Series Analysis Components:**\n",
    "\n",
    "1. **Trend:** This is like the continuous flow of a storyline in the data. It could be going up (Positive), down (Negative), or staying constant (Null Trend).\n",
    "\n",
    "2. **Seasonality:** Imagine regular shifts in the data happening at fixed intervals, creating a pattern like a bell curve or a sawtooth.\n",
    "\n",
    "3. **Cyclical:** Think of this as a less predictable, uncertain movement in the data with no fixed intervals.\n",
    "\n",
    "4. **Irregularity:** These are the unexpected surprises in the data—sudden spikes or unusual events happening in a short period.\n",
    "\n",
    "![Alt Text](./Images/39815Components%20of%20Time%20Series%20Analysis.png) \n"
   ]
  },
  {
   "cell_type": "markdown",
   "metadata": {},
   "source": [
    "### **Understanding the Limits of Time Series Analysis:**\n",
    "\n",
    "1. **No Room for Missing Values:**\n",
    "   Time series analysis doesn't handle missing values well, just like some other models. So, when digging into our data, we need to be mindful of this.\n",
    "\n",
    "2. **Linear Relationships Required:**\n",
    "   The data points in time series must have a linear relationship. Think of it like the dots on a straight line, which helps the analysis process.\n",
    "\n",
    "3. **Cost of Data Transformations:**\n",
    "   Transforming data is a must, but it comes at a price. It can be a bit costly, so we should be aware of the expenses involved.\n",
    "\n",
    "4. **Primarily for Uni-variate Data:**\n",
    "   Time series models are most effective with one variable at a time. They might not perform as well with multiple variables in the mix."
   ]
  },
  {
   "cell_type": "markdown",
   "metadata": {},
   "source": [
    "### **Data Types of Time Series:**\n",
    "\n",
    "**Stationary:**\n",
    "For a dataset to be stationary, it must follow these rules:\n",
    "1. It shouldn't have Trend, Seasonality, Cyclical, or Irregularity components.\n",
    "2. The mean value should stay constant throughout the analysis.\n",
    "3. The variance (how spread out the values are) should remain constant over time.\n",
    "4. Covariance, which measures the relationship between two variables, should also be constant.\n",
    "\n",
    "**Non-Stationary:**\n",
    "If either the mean-variance or covariance changes over time, the dataset is called non-stationary.\n",
    "\n",
    "![Alt text](./Images/99388Stationary%20Vs%20Non-Stationary.png)"
   ]
  },
  {
   "cell_type": "markdown",
   "metadata": {},
   "source": [
    "### **Methods to Check Stationarity:**\n",
    "\n",
    "1. **Augmented Dickey-Fuller (ADF) Test:** This is a popular test with these assumptions:\n",
    "   - Null Hypothesis (H0): The series is non-stationary.\n",
    "   - Alternate Hypothesis (HA): The series is stationary.\n",
    "   - If p-value > 0.05, we fail to reject (H0).\n",
    "   - If p-value <= 0.05, we accept (H1).\n",
    "\n",
    "2. **Kwiatkowski-Phillips-Schmidt-Shin (KPSS) Test:** \n",
    "   - These tests compare a NULL Hypothesis (HO) that sees the time series as stationary around a trend against the alternative of a unit root. Since TSA needs stationary data, we want to make sure our dataset is stationary."
   ]
  },
  {
   "cell_type": "markdown",
   "metadata": {},
   "source": [
    "### **Converting Non-Stationary Into Stationary:**\n",
    "Let's simplify the methods for converting non-stationary time series data into a stationary form for better modeling. There are three main techniques: detrending, differencing, and transformation.\n",
    "\n",
    "**Detrending:**\n",
    "Remove trend effects from the data, highlighting only differences from the trend. This helps identify cyclical patterns.\n",
    "\n",
    "![](./Images/26672Detrending.png)\n",
    "\n",
    "**Differencing:**\n",
    "Transform the series into a new one, reducing its dependence on time. This stabilizes the mean, minimizing trend and seasonality.\n",
    "\n",
    "- ${Y_t = Y_t - Y_{t-1}}$\n",
    "- ${Y_t}$ : Value with time\n",
    "\n",
    "![](./Images/98810Converting%20Non-%20Stationarity%20data%20into%20Stationarity.png)\n",
    "\n",
    "**Transformation:**\n",
    "Use methods like Power Transform, Square Root, or Log Transfer. Log Transfer is commonly employed.\n",
    "\n",
    "**Moving Average Methodology:**\n",
    "- A popular technique is the Moving Average, effective for smoothing short-term variations.\n",
    "\n",
    "**Types of Moving Averages:**\n",
    "1. **Simple Moving Average (SMA):**\n",
    "- Calculate the unweighted mean of the previous \\( M \\) or \\( N \\) points. Adjust \\( M \\) or \\( N \\) for desired smoothing; higher values smooth more but reduce accuracy.\n",
    "   \n",
    "   ![](./Images/27331SMA.png)\n",
    "\n",
    "   ![](./Images/17974SMA%20over%20a%20period%20of%2010%20and%2020%20years.png)\n",
    "\n",
    "\n",
    "2. **Cumulative Moving Average (CMA):**\n",
    "- Unweighted mean of past values up to the current time.\n",
    "\n",
    "   ![](./Images/16788CMA.png)\n",
    "\n",
    "   ![](./Images/40978CMA-visi.png)\n",
    "\n",
    "3. **Exponential Moving Average (EMA):**\n",
    "- Identify trends and filter noise. It gives more weight to recent data, changing faster than SMA. The smoothing factor **${\\alpha}$**  determines weight, ranging from 0 to 1. Smaller **${\\alpha}$** values focus on recent data.\n",
    "- Let's apply exponential moving averages with smoothing factors of 0.1 and 0.3 to our air temperature dataset for a practical understanding.\n",
    "\n",
    "   ![](./Images/81657EMA.png)\n",
    "\n",
    "   ![](./Images/41322EMA-visi.png)\n",
    "\n"
   ]
  },
  {
   "cell_type": "markdown",
   "metadata": {},
   "source": [
    "### **Time Series Analysis in Data Science and Machine Learning:**\n",
    "- In the world of Data Science and Machine Learning, when we dive into Time Series Analysis (TSA), we encounter various model options. One notable model is Autoregressive–Moving-Average (ARMA), characterized by parameters [p, d, and q].\n",
    "\n",
    "- Breaking it down:\n",
    "    - **p**: autoregressive lags\n",
    "    - **q**: moving average lags\n",
    "    - **d**: difference in the order\n",
    "\n",
    "But, before we jump into ARIMA, let's grasp some key terms.\n",
    "\n",
    "**Auto-Correlation Function (ACF):**\n",
    "- ACF tells us how much a value in a time series resembles the previous one. It's like measuring the similarity between a current time series and its past version at different intervals.\n",
    "- Python's Statsmodels library is handy here, calculating autocorrelation and revealing trends and the impact of past values on present ones.\n",
    "\n",
    "**Partial Auto-Correlation Function (PACF):**\n",
    "- PACF is a bit trickier but closely related to ACF. It shows the correlation of a sequence with itself, considering a specific number of time units per sequence order. It focuses on the direct effect, removing other intermediary effects from the time series.\n",
    "\n",
    "![](./Images/41503Auto-correlation%20and%20Partial%20Auto-Correlation.png)\n",
    "\n",
    "Observation:\n",
    "- The previous temperature influences the current temperature, but the significance of that influence decreases and slightly increases from the above visualization along with the temperature with regular time intervals.\n",
    "\n",
    "So, in a nutshell, ACF and PACF help us unveil patterns and relationships within a time series, guiding our journey in Time Series Analysis. 📈🕰️\n",
    "\n",
    "**Types of Auto-Correlation:**\n",
    "\n",
    "![](./Images/16336Types%20of%20AR.png)\n",
    "\n",
    "| ACF                        | PACF                        | Perfect ML Model           |\n",
    "| -------------------------- | --------------------------- | -------------------------- |\n",
    "| Plot declines gradually    | Plot drops instantly        | Auto Regressive model      |\n",
    "| Plot drops instantly        | Plot declines gradually    | Moving Average model      |\n",
    "| Plot decline gradually     | Plot decline gradually     | ARMA                       |\n",
    "| Plot drops instantly        | Plot drops instantly        | No specific model         |\n",
    "\n",
    "Note: Both ACF and PACF analysis assumes a stationary time series for accurate interpretation."
   ]
  },
  {
   "cell_type": "markdown",
   "metadata": {},
   "source": [
    "### **Auto-Regressive Model:**\n",
    "- An auto-regressive model is a simple model that predicts future performance based on past performance. It is mainly used for forecasting when there is some correlation between values in a given time series and those that precede and succeed (back and forth).\n",
    "- An AR is a Linear Regression model that uses lagged variables as input. By indicating the input, the Linear Regression model can be easily built using the scikit-learn library. Statsmodels library provides autoregression model-specific functions where you must specify an appropriate lag value and train the model. It is provided in the AutoTeg class to get the results using simple steps.\n",
    "    - Creating the model AutoReg()\n",
    "    - Call fit() to train it on our dataset.\n",
    "    - Returns an AutoRegResults object.\n",
    "    - Once fit, make a prediction by calling the predict () function\n",
    "\n",
    "- The equation for the AR model (Let’s compare Y=mX+c)\n",
    "    - Yt =C+b1 Yt-1+ b2 Yt-2+……+ bp Yt-p+ Ert\n",
    "- Key Parameters\n",
    "    - p=past values\n",
    "    - Yt=Function of different past values\n",
    "    - Ert=errors in time\n",
    "    - C=intercept\n",
    "\n",
    "- Lets’s check whether the given data set or time series is random or not.\n",
    "\n",
    "Code"
   ]
  },
  {
   "cell_type": "markdown",
   "metadata": {},
   "source": [
    "https://archive.li/AkQU8"
   ]
  },
  {
   "cell_type": "markdown",
   "metadata": {},
   "source": []
  },
  {
   "cell_type": "markdown",
   "metadata": {},
   "source": []
  },
  {
   "cell_type": "markdown",
   "metadata": {},
   "source": []
  },
  {
   "cell_type": "markdown",
   "metadata": {},
   "source": []
  },
  {
   "cell_type": "code",
   "execution_count": null,
   "metadata": {},
   "outputs": [],
   "source": []
  },
  {
   "cell_type": "code",
   "execution_count": null,
   "metadata": {},
   "outputs": [],
   "source": []
  }
 ],
 "metadata": {
  "language_info": {
   "name": "python"
  },
  "orig_nbformat": 4
 },
 "nbformat": 4,
 "nbformat_minor": 2
}
