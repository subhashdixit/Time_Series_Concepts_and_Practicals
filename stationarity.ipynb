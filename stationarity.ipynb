{
 "cells": [
  {
   "cell_type": "markdown",
   "metadata": {},
   "source": [
    "# **Stationarity in Time Series**\n",
    "- Stationarity describes the concept that the statistical features of a time series do not change over time. "
   ]
  },
  {
   "cell_type": "markdown",
   "metadata": {},
   "source": [
    "### **What Is Stationarity?**\n",
    "* Stationarity describes the concept that how a time series is changing will remain the same in the future. \n",
    "* In mathematical terms, a time series is stationary when its statistical properties are independent of time:\n",
    "    * ***constant mean***,\n",
    "    * ***constant variance***,\n",
    "    * and ***covariance*** is independent of time.\n",
    "* This is the definition of **weak-form stationarity**. Another type of stationarity is **strict stationarity**. It implies that samples of identical size have identical distribution. Since strict stationarity is restrictive and rare, this article will only focus on weak-form stationarity."
   ]
  },
  {
   "cell_type": "markdown",
   "metadata": {},
   "source": [
    "### **Why Is Stationarity Important?**\n",
    "* Some time series forecasting models (e.g., autoregressive models) require a stationary time series because they are easier to model due to their constant statistical properties. Thus, you should make your time series stationary if it is not What Can You Do When A Time Series Is Not Stationary?.\n",
    "\n"
   ]
  },
  {
   "cell_type": "markdown",
   "metadata": {},
   "source": [
    "### **What Can You Do When A Time Series Is Not Stationary?**\n",
    "* You can apply different transformations to a non-stationary time series to try to make it stationary:\n",
    "    * Differencing\n",
    "    * Detrending by model fitting\n",
    "    * Log transformation\n",
    "* Because there are several stationarity types, we can combine the ADF and KPSS tests to determine what transformations to make:\n",
    "    * If the ADF test result is stationary and the KPSS test result is non-stationary, the time series is difference stationary — Apply differencing to time series and check for stationarity again.\n",
    "    * If the ADF test result is non-stationary and the KPSS test result is stationary, the time series is trend stationary — Detrend time series and check for stationarity again.\n",
    "\n",
    "**Differencing**\n",
    "* Differencing calculates the difference between two consecutive observations. It stabilizes the mean of a time series and thus reduces the trend.\n",
    "\n",
    "* ![Alt text](./Images/Differencing.webp) \n",
    "\n",
    "**Detrending by model fitting**\n",
    "* Another way to remove the trend from a non-stationary time series is to fit a simple model (e.g., linear regression) to the data and then to model the residuals from that fit.\n",
    "\n",
    "* ![Alt text](./Images/Detrend.webp) \n",
    "\n",
    "\n",
    "**Log transformation**\n",
    "* Log transformation stabilizes the variance of a time series.\n",
    "\n",
    "* ![Alt text](./Images/Log_Transform.webp) \n",
    "\n",
    "* As you can see, both the detrending with model fitting as well as the log transform alone did not make our example time series stationary. You can also combine different techniques to make a time series stationary:\n",
    "\n",
    "* ![Alt text](./Images/Log_Transform%20and%20Detrend.webp) \n"
   ]
  },
  {
   "cell_type": "markdown",
   "metadata": {},
   "source": [
    "### **How Do You Test For Stationarity?**\n",
    "* You can test a time series for stationarity in two ways:\n",
    "    * **Intuitive approach:** Visual assessment\n",
    "    * **Statistical approach:** Unit root test"
   ]
  },
  {
   "cell_type": "markdown",
   "metadata": {},
   "source": [
    "**1. How to visually assess stationarity?**\n",
    "* You can visually assess the stationarity of a time series by mentally dividing the time series in half and comparing the mean, amplitude, and cycle length from the first half to the second half of the time series.\n",
    "    * ***constant mean*** —The mean value of the first half of the time series should be similar to that of the second half.\n",
    "    * ***constant variance*** —The amplitude of the first half of the time series should be similar to that of the second half.\n",
    "    * ***covariance*** is independent of time — The cycle length in the first half of the time series should be similar to that in the second half. The cycles should be independent on time (e.g., not weekly or monthly, etc.).\n",
    "\n",
    "* ![Alt text](./Images/Visualise_Stationarity.webp)\n",
    "\n",
    "* Examples, the assessment result is visualized below:\n",
    "\n",
    "* ![Alt text](./Images/Stationary%20Examples.webp)\n"
   ]
  },
  {
   "cell_type": "markdown",
   "metadata": {},
   "source": [
    "**2. How to statistically assess stationarity — a detour on unit root tests?**\n",
    "* A unit root is a stochastic trend called a “random walk with drift”. Since randomness can’t be predicted, that means:\n",
    "    * **Unit root present:** not stationary (unpredictable)\n",
    "    * **Unit root absent:** stationary\n",
    "\n",
    "* To test for stationarity with a unit root test, you will state your initial assumption in the form of two competing hypotheses:\n",
    "    * **Null hypothesis (H0)** — e.g., the time series is stationary (no unit root present)\n",
    "    * **Alternative hypothesis (H1)** — e.g., the time series is not stationary (unit root present)\n",
    "\n",
    "* Then you will assess whether to reject or not to reject the null hypothesis based on two approaches:\n",
    "    1. The p-value approach:\n",
    "        * If the p-value > 0.05, fail to reject the null hypothesis.\n",
    "        * If the p-value ≤ 0.05, reject the null hypothesis.\n",
    "    2. The critical value approach:\n",
    "        * If the test statistic is less extreme than the critical value, fail to reject the null hypothesis.\n",
    "        * If the test statistic is more extreme than the critical value, reject the null hypothesis.\n",
    "\n",
    "* The critical value approach should be used when the p-value is close to significant (e.g., around 0.05).\n",
    "\n",
    "* There are several unit root tests you can use to check for stationarity. This article will focus on the most popular ones:\n",
    "    * **Augmented Dickey-Fuller test**\n",
    "    * **Kwiatkowski-Phillips-Schmidt-Shin test**\n"
   ]
  },
  {
   "cell_type": "markdown",
   "metadata": {},
   "source": [
    "**How to test for stationarity with Augmented Dickey-Fuller test?**\n",
    "* The hypotheses for the Augmented Dickey-Fuller (ADF) test are:\n",
    "    * Null hypothesis (H0): The time series is not stationary because there is a unit root (if p-value > 0.05)\n",
    "    * Alternative hypothesis (H1): The time series is stationary because there is no unit root (if p-value ≤ 0.05)\n",
    "\n",
    "* The time series is stationary if we can reject the null hypothesis of the ADF test:\n",
    "    * If the p-value (result[1]) ≤ 0.05\n",
    "    * If the test statistic (result[0]) is more extreme than the critical value (result[4][\"1%\"], result[4][\"5%\"], and result[4][\"10%\"])\n",
    "\n",
    "* ![Alt text](./Images/ADfuller.webp)\n",
    "\n",
    "* Below are the results from the ADF test for the sample dataset:\n",
    "\n",
    "* ![Alt text](./Images/ADfuller%20Example.webp)\n",
    "\n"
   ]
  },
  {
   "cell_type": "markdown",
   "metadata": {},
   "source": [
    "**How to test for stationarity with Kwiatkowski-Phillips-Schmidt-Shin test?**\n",
    "* The hypotheses for the Kwiatkowski-Phillips-Schmidt-Shin (KPSS) test are:\n",
    "    * Null hypothesis (H0): The time series is stationary because there is no unit root (if p-value > 0.05)\n",
    "    * Alternative hypothesis (H1): The time series is not stationary because there is a unit root (if p-value ≤ 0.05)\n",
    "\n",
    "* The more positive this statistic, the more likely we are to reject the null hypothesis (we have a non-stationary time series).\n",
    "* The time series is stationary if we fail to reject the null hypothesis of the KPSS test:\n",
    "    * If the p-value (result[1]) > 0.05\n",
    "    * If the test statistic (result[0]) is less extreme than the critical value (result[3][\"1%\"], result[3][\"2.5%\"], result[3][\"5%\"], and result[3][\"10%\"])\n",
    "\n",
    "* ![Alt text](./Images/KPS.webp)\n",
    "\n",
    "* Below are the results from the KPSS test for the sample dataset:\n",
    "\n",
    "* ![Alt text](./Images/KPS%20Example.webp)\n"
   ]
  },
  {
   "cell_type": "markdown",
   "metadata": {},
   "source": [
    "**References:**\n",
    "* https://towardsdatascience.com/stationarity-in-time-series-a-comprehensive-guide-8beabe20d68\n",
    "# **<center>THE END</center>**"
   ]
  }
 ],
 "metadata": {
  "language_info": {
   "name": "python"
  }
 },
 "nbformat": 4,
 "nbformat_minor": 2
}
