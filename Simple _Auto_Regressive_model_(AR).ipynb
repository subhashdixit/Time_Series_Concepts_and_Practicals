{
 "cells": [
  {
   "cell_type": "markdown",
   "metadata": {},
   "source": [
    "## **Simple Auto Regressive model(AR)**\n",
    "- A simple autoregressive (AR) model is used for time series forecasting.\n",
    "- It models the relationship between the current value and past values of the time series.\n",
    "- It is called \"simple\" because it only includes an autoregressive term, without other terms.\n",
    "- To implement a simple AR model, follow these steps:\n",
    "  1. Visualize the time series data to identify trends, seasonality, or patterns.\n",
    "  2. Determine the order of the AR model (p) using techniques like ACF and PACF.\n",
    "  3. Fit the AR model to the data with the determined value for p.\n",
    "  4. Use the fitted model to forecast future values of the time series.\n",
    "- To determine the order (p), examine the PACF."
   ]
  },
  {
   "cell_type": "code",
   "execution_count": 5,
   "metadata": {},
   "outputs": [],
   "source": [
    "# import statsmodels.api as sm\n",
    "# data = sm.datasets.sunspots.load_pandas().data\n",
    "\n",
    "# # Use AutoReg instead of AR\n",
    "# model = sm.tsa.AutoReg(data, lags=1)\n",
    "# results = model.fit()\n",
    "\n",
    "# # Forecast\n",
    "# forecasts = list(results.forecast(steps=12))\n",
    "# print(forecasts)\n"
   ]
  },
  {
   "cell_type": "markdown",
   "metadata": {},
   "source": [
    "**Observations**\n",
    "- The example uses an AR(1) model to make forecasts for the next 12 time steps.\n",
    "- The value of \"p\" (which is 1 in this case) determines the model's order and the number of past values considered for forecasting.\n",
    "- In this example, only the previous value is used for forecasting.\n",
    "- Simple AR models may not be suitable for all time series data, as they don't account for trends or seasonality.\n",
    "- More complex models like ARIMA may be better in cases with trends or seasonality in the data."
   ]
  },
  {
   "cell_type": "markdown",
   "metadata": {},
   "source": []
  }
 ],
 "metadata": {
  "kernelspec": {
   "display_name": "Python 3",
   "language": "python",
   "name": "python3"
  },
  "language_info": {
   "codemirror_mode": {
    "name": "ipython",
    "version": 3
   },
   "file_extension": ".py",
   "mimetype": "text/x-python",
   "name": "python",
   "nbconvert_exporter": "python",
   "pygments_lexer": "ipython3",
   "version": "3.9.18"
  },
  "orig_nbformat": 4
 },
 "nbformat": 4,
 "nbformat_minor": 2
}
