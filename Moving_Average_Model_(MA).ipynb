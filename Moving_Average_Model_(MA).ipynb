{
 "cells": [
  {
   "cell_type": "markdown",
   "metadata": {},
   "source": [
    "## **Moving Ave**rage Model(MA)\n",
    "- A moving average (MA) model is used for time series forecasting by modeling the error term, representing the forecast's difference from the actual value.\n",
    "- The error term is assumed to be a random, uncorrelated process known as white noise.\n",
    "- To implement an MA model:\n",
    "  1. Visualize the time series data to detect trends, seasonality, or patterns.\n",
    "  2. Determine the model's order (q) using tools like Autocorrelation Function (ACF) and Partial Autocorrelation Function (PACF).\n",
    "  3. Fit the MA model to the data using the determined q value.\n",
    "  4. Utilize the model for forecasting future time series values.\n",
    "- To determine the MA model's order, one examines the Autocorrelation Function (ACF)."
   ]
  },
  {
   "cell_type": "code",
   "execution_count": 1,
   "metadata": {},
   "outputs": [],
   "source": [
    "# import statsmodel.api as sm\n",
    "# data = sm.datasets.sunspots.load_pandas().data\n",
    "# model = sm.tsa.MA(data, order = 2)\n",
    "# results = model.fit()\n",
    "# forecasts = results.forecast(steps = 12)\n"
   ]
  },
  {
   "cell_type": "markdown",
   "metadata": {},
   "source": [
    "**Observations**\n",
    "- The example demonstrates the use of a Moving Average model (MA(2)) on sunspot data to make forecasts for the next 12 time steps.\n",
    "- The parameter 'q' (which is set to 2 in this case) determines the order of the model, influencing the number of error terms used for forecasting.\n",
    "- The forecast is based on the current and previous error terms in the model.\n",
    "- Moving average models are limited as they don't consider data trends or seasonality, making them less suitable for certain time series forecasting tasks.\n",
    "- For cases involving trends and seasonality, more complex models like ARMA or ARIMA may be more appropriate."
   ]
  }
 ],
 "metadata": {
  "kernelspec": {
   "display_name": "Python 3",
   "language": "python",
   "name": "python3"
  },
  "language_info": {
   "codemirror_mode": {
    "name": "ipython",
    "version": 3
   },
   "file_extension": ".py",
   "mimetype": "text/x-python",
   "name": "python",
   "nbconvert_exporter": "python",
   "pygments_lexer": "ipython3",
   "version": "3.9.18"
  },
  "orig_nbformat": 4
 },
 "nbformat": 4,
 "nbformat_minor": 2
}
